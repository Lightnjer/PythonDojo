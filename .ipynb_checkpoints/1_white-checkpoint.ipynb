{
 "cells": [
  {
   "cell_type": "code",
   "execution_count": null,
   "metadata": {},
   "outputs": [],
   "source": []
  },
  {
   "cell_type": "markdown",
   "metadata": {},
   "source": [
    "![SCAN-Unit](img/scan-unit-logo.png \"SCAN-Unit\")\n",
    "\n",
    "# SCAN-Unit Data Science Dojo\n",
    "    \n"
   ]
  },
  {
   "cell_type": "markdown",
   "metadata": {
    "execution": {
     "iopub.execute_input": "2020-11-13T15:03:43.388262Z",
     "iopub.status.busy": "2020-11-13T15:03:43.387522Z",
     "iopub.status.idle": "2020-11-13T15:03:43.402925Z",
     "shell.execute_reply": "2020-11-13T15:03:43.401701Z",
     "shell.execute_reply.started": "2020-11-13T15:03:43.388178Z"
    }
   },
   "source": [
    "# Chapter 1. Getting started with Python"
   ]
  },
  {
   "cell_type": "markdown",
   "metadata": {},
   "source": [
    "- Setting up a local jupyter notebook\n",
    "- Python Basics (hello world, variables, print, if, logical comparison, for, lists)\n",
    "- Saving output and understanding files and paths \n",
    "- Connecting to jupyterhub on neuronix"
   ]
  },
  {
   "cell_type": "markdown",
   "metadata": {},
   "source": [
    "# Jupyter Notebook\n",
    "\n",
    "To run python code you either need to have python installed and configured on your local machine or maybe you can (already) access it on one of our data processing servers (e.g., neuronix). For creating and executing your code you should have a convenient user interface. This curriculum prepares you to use jupyterlab, which also runs on https://neuronix.psy.univie.ac.at:8781/. It is browser-based, this means, if you have access to a jupyter server, you can program in any modern web browser and don't need any additional packages installed and .\n",
    "\n",
    "\n",
    "## External Tutorial. Jupyter Basics\n",
    "\n",
    "Questions answered in this tutorial\n",
    "- What is Jupyter and how do I install it?\n",
    "- How do I create a notebook and work with it?\n",
    "- How do I set up and execute my first basic data analysis?\n",
    "- How do I share my notebook and what are GitHub and Nbviewer?\n",
    "\n",
    "https://www.dataquest.io/blog/jupyter-notebook-tutorial/\n",
    "\n",
    "\n"
   ]
  },
  {
   "cell_type": "markdown",
   "metadata": {},
   "source": [
    "# Python Basics\n",
    "\n",
    "Since jupyter notebooks are based on the python programming language it comes in very handy to know the basic commands and syntax of python.\n",
    "\n",
    "\n",
    "## External Tutorial. Python Basics\n",
    "\n",
    "- Under the following link you can find a list of learning material chosen for non-programmers: https://wiki.python.org/moin/BeginnersGuide/NonProgrammers\n",
    "\n",
    "- This following video tutorial covers the basics well and gives you the opportunity to apply what you have learned in small exercises after every section: https://www.youtube.com/watch?v=_uQrJ0TkZlc&t. As you can see, the video is divided into sections. The most important sections to get a good feel for the basic commands are\n",
    "  - if-statements\n",
    "  - logical and comparison operators\n",
    "  - while/for loops and lists.\n",
    "  \n",
    "  \n",
    "  From a non-programmer's perspective who is getting into Python, this tutorial was well explained and comprehensible."
   ]
  },
  {
   "cell_type": "code",
   "execution_count": 4,
   "metadata": {
    "execution": {
     "iopub.execute_input": "2020-11-13T15:18:38.208599Z",
     "iopub.status.busy": "2020-11-13T15:18:38.207874Z",
     "iopub.status.idle": "2020-11-13T15:18:38.214733Z",
     "shell.execute_reply": "2020-11-13T15:18:38.213227Z",
     "shell.execute_reply.started": "2020-11-13T15:18:38.208495Z"
    }
   },
   "outputs": [],
   "source": [
    "# You can code away here in this notebook\n"
   ]
  },
  {
   "cell_type": "markdown",
   "metadata": {
    "execution": {
     "iopub.execute_input": "2020-11-13T15:24:36.547940Z",
     "iopub.status.busy": "2020-11-13T15:24:36.547242Z",
     "iopub.status.idle": "2020-11-13T15:24:36.558727Z",
     "shell.execute_reply": "2020-11-13T15:24:36.557351Z",
     "shell.execute_reply.started": "2020-11-13T15:24:36.547868Z"
    }
   },
   "source": [
    "# Storing your data to disk\n",
    "\n",
    "The variables you define will only remain in the working memory until jupyter restarts. However, you don't have to re-run you code all the time, which can be time-consuming for longer analyses in the future. Instead you can write your data to the disk.\n",
    "\n",
    "Here we will explain two ways:\n",
    "\n",
    "## Storing and loading variables"
   ]
  },
  {
   "cell_type": "code",
   "execution_count": 1,
   "metadata": {
    "execution": {
     "iopub.execute_input": "2020-11-13T15:27:28.282922Z",
     "iopub.status.busy": "2020-11-13T15:27:28.282222Z",
     "iopub.status.idle": "2020-11-13T15:27:28.293244Z",
     "shell.execute_reply": "2020-11-13T15:27:28.292239Z",
     "shell.execute_reply.started": "2020-11-13T15:27:28.282846Z"
    }
   },
   "outputs": [
    {
     "name": "stdout",
     "output_type": "stream",
     "text": [
      "Stored 'foo' (str)\n"
     ]
    }
   ],
   "source": [
    "foo = \"My text in my variable\"\n",
    "%store foo"
   ]
  },
  {
   "cell_type": "markdown",
   "metadata": {},
   "source": [
    "If you restart the jupyter kernel your variable is lost but you can reload it using %store -r"
   ]
  },
  {
   "cell_type": "code",
   "execution_count": 2,
   "metadata": {
    "execution": {
     "iopub.execute_input": "2020-11-13T15:37:01.705268Z",
     "iopub.status.busy": "2020-11-13T15:37:01.704513Z",
     "iopub.status.idle": "2020-11-13T15:37:01.713749Z",
     "shell.execute_reply": "2020-11-13T15:37:01.713077Z",
     "shell.execute_reply.started": "2020-11-13T15:37:01.705192Z"
    }
   },
   "outputs": [
    {
     "name": "stdout",
     "output_type": "stream",
     "text": [
      "My text in my variable\n"
     ]
    }
   ],
   "source": [
    "# print(foo) # will not work, load foo first\n",
    "\n",
    "%store -r foo\n",
    "print(foo)"
   ]
  },
  {
   "cell_type": "markdown",
   "metadata": {
    "execution": {
     "iopub.execute_input": "2020-11-13T15:34:34.763378Z",
     "iopub.status.busy": "2020-11-13T15:34:34.762680Z",
     "iopub.status.idle": "2020-11-13T15:34:34.772892Z",
     "shell.execute_reply": "2020-11-13T15:34:34.771409Z",
     "shell.execute_reply.started": "2020-11-13T15:34:34.763303Z"
    }
   },
   "source": [
    "**Important!** This approach is reasonable for small variables only. Different methods should be used for larger datasets, such as writing them to text files for tabular data, and NIFTI files for MRI data."
   ]
  },
  {
   "cell_type": "markdown",
   "metadata": {
    "execution": {
     "iopub.execute_input": "2020-11-13T15:26:38.521088Z",
     "iopub.status.busy": "2020-11-13T15:26:38.520358Z",
     "iopub.status.idle": "2020-11-13T15:26:38.531020Z",
     "shell.execute_reply": "2020-11-13T15:26:38.529607Z",
     "shell.execute_reply.started": "2020-11-13T15:26:38.521011Z"
    }
   },
   "source": [
    "## Storing and loading tabular data\n",
    "\n",
    "Tables are special datasets that can also be storted to tab- (tsv) or comma-seperated (csv) text files. This is very convenient because you can load, edit, and export these kinds of files also from programs such as Microsoft Excel. We use a module called pandas to achieve this:"
   ]
  },
  {
   "cell_type": "code",
   "execution_count": 3,
   "metadata": {
    "execution": {
     "iopub.execute_input": "2020-11-13T15:39:42.637768Z",
     "iopub.status.busy": "2020-11-13T15:39:42.637032Z",
     "iopub.status.idle": "2020-11-13T15:39:43.116199Z",
     "shell.execute_reply": "2020-11-13T15:39:43.114636Z",
     "shell.execute_reply.started": "2020-11-13T15:39:42.637687Z"
    }
   },
   "outputs": [],
   "source": [
    "import pandas as pd\n",
    "\n",
    "df = pd.DataFrame({'name': ['Raphael', 'Donatello'],\n",
    "                   'mask': ['red', 'purple'],\n",
    "                   'weapon': ['sai', 'bo staff']})\n",
    "df.to_csv('chapter1_pandas_df.csv')"
   ]
  },
  {
   "cell_type": "markdown",
   "metadata": {},
   "source": [
    "In the next chapter we will explore how you can work with these tabular datasets."
   ]
  },
  {
   "cell_type": "markdown",
   "metadata": {},
   "source": [
    "# Connecting to jupyterhub on neuronix"
   ]
  },
  {
   "cell_type": "markdown",
   "metadata": {},
   "source": [
    "You need to be a SCAN-Unit employee to access the neuronix server. If you have access to the *p*-storage, you should also be able to access neuronix.\n",
    "\n",
    "Details can be found here:\n",
    "- On macOS and linux: teamdata/lamm/share/manuals/neuronix_manual.docx\n",
    "- On Windows: P:\\teamdata\\lamm\\share\\manuals\\neuronix_manual.docx"
   ]
  },
  {
   "cell_type": "code",
   "execution_count": null,
   "metadata": {},
   "outputs": [],
   "source": []
  }
 ],
 "metadata": {
  "kernelspec": {
   "display_name": "Python 3",
   "language": "python",
   "name": "python3"
  },
  "language_info": {
   "codemirror_mode": {
    "name": "ipython",
    "version": 3
   },
   "file_extension": ".py",
   "mimetype": "text/x-python",
   "name": "python",
   "nbconvert_exporter": "python",
   "pygments_lexer": "ipython3",
   "version": "3.8.3"
  }
 },
 "nbformat": 4,
 "nbformat_minor": 4
}
